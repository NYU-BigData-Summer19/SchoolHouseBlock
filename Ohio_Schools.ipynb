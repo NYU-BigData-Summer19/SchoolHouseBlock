{
 "cells": [
  {
   "cell_type": "code",
   "execution_count": 161,
   "metadata": {},
   "outputs": [],
   "source": [
    "import math\n",
    "import pandas as pd\n",
    "import numpy as np\n",
    "import requests\n",
    "import json\n",
    "import xlwt\n",
    "from xlwt import Workbook"
   ]
  },
  {
   "cell_type": "code",
   "execution_count": 4,
   "metadata": {},
   "outputs": [
    {
     "name": "stdout",
     "output_type": "stream",
     "text": [
      "/Users/AmeryChang\r\n"
     ]
    }
   ],
   "source": [
    "! pwd"
   ]
  },
  {
   "cell_type": "code",
   "execution_count": 6,
   "metadata": {},
   "outputs": [],
   "source": [
    "schools_path = 'Desktop/Ohio_Charter_Schools.xlsx'\n",
    "df = pd.read_excel(schools_path, sheet_name=\"OhioCharterSchools\", error_bad_lines=False)"
   ]
  },
  {
   "cell_type": "code",
   "execution_count": 131,
   "metadata": {},
   "outputs": [],
   "source": [
    "# Add a lat and lon column\n",
    "df_rows = len(df['Sponsor'])\n",
    "df = df.assign(Latitude=pd.Series(np.zeros(df_rows)).values)\n",
    "df = df.assign(Longitude=pd.Series(np.zeros(df_rows)).values)"
   ]
  },
  {
   "cell_type": "code",
   "execution_count": 156,
   "metadata": {},
   "outputs": [],
   "source": [
    "# Function to get Latitude and Longitude\n",
    "\n",
    "def getLatLong(df):\n",
    "    #for i in range(0, 50):\n",
    "    for i in range(0, len(df.index)):\n",
    "        if not pd.isna(df.iloc[i].Address):\n",
    "            apiKey =
    "            url = requests.get('https://maps.googleapis.com/maps/api/geocode/json?address={}&key={}'.format(df.iloc[i].Address.replace(' ','+'),apiKey) )\n",
    "            resp_json_payload = url.json()\n",
    "            lat = resp_json_payload['results'][0]['geometry']['location']['lat']\n",
    "            lng = resp_json_payload['results'][0]['geometry']['location']['lng']\n",
    "            df.loc[df.index[i], 'Latitude'] = lat\n",
    "            df.loc[df.index[i], 'Longitude'] = lng\n",
    "\n",
    "        else:\n",
    "            continue;"
   ]
  },
  {
   "cell_type": "code",
   "execution_count": 157,
   "metadata": {},
   "outputs": [],
   "source": [
    "getLatLong(df)"
   ]
  },
  {
   "cell_type": "code",
   "execution_count": 162,
   "metadata": {
    "collapsed": true
   },
   "outputs": [],
   "source": [
    "df.to_csv('New_Ohio_Charter_Schools.csv')"
   ]
  },
  {
   "cell_type": "code",
   "execution_count": 163,
   "metadata": {},
   "outputs": [
    {
     "name": "stdout",
     "output_type": "stream",
     "text": [
      "2007-2016.csv\r\n",
      "2017_NoLabelData.csv\r\n",
      "ACFrOgD2nILAWtzx8d8g1BQcUapG9-0OpPE5OKFy-KbhiXJ7S7lPzmSbB_07rmwiN34qhRPGtHS_GNIygn1QZYctlX6tfdF2GqAU0zgQsyp948qFS_PR5un1CTWGtWg=.pdf\r\n",
      "\u001b[34mAnacondaProjects\u001b[m\u001b[m\r\n",
      "\u001b[34mAndroidStudioProjects\u001b[m\u001b[m\r\n",
      "\u001b[34mAndroid_ud851\u001b[m\u001b[m\r\n",
      "\u001b[34mApplications\u001b[m\u001b[m\r\n",
      "Correlations.ipynb\r\n",
      "\u001b[34mDesktop\u001b[m\u001b[m\r\n",
      "\u001b[34mDocuments\u001b[m\u001b[m\r\n",
      "\u001b[34mDownloads\u001b[m\u001b[m\r\n",
      "GoogleTrend.ipynb\r\n",
      "\u001b[34mLibrary\u001b[m\u001b[m\r\n",
      "Makefile\r\n",
      "\u001b[34mMovies\u001b[m\u001b[m\r\n",
      "\u001b[34mMusic\u001b[m\u001b[m\r\n",
      "New_Ohio_Charter_Schools.csv\r\n",
      "Ohio Schools.ipynb\r\n",
      "PCA.ipynb\r\n",
      "\u001b[34mPictures\u001b[m\u001b[m\r\n",
      "\u001b[34mPublic\u001b[m\u001b[m\r\n",
      "Redfin.ipynb\r\n",
      "Regression.ipynb\r\n",
      "RegressionData.csv\r\n",
      "RegressionData.xlsx\r\n",
      "Social Security Baby Names.ipynb\r\n",
      "Untitled.ipynb\r\n",
      "Untitled1.ipynb\r\n",
      "Untitled2.ipynb\r\n",
      "Untitled3.ipynb\r\n",
      "\u001b[34mVirtualBox VMs\u001b[m\u001b[m\r\n",
      "ac3241@access.cims.nyu.edu\r\n",
      "\u001b[34manaconda3\u001b[m\u001b[m\r\n",
      "\u001b[34mbin\u001b[m\u001b[m\r\n",
      "\u001b[34mbuild\u001b[m\u001b[m\r\n",
      "\u001b[34mcockroach-data\u001b[m\u001b[m\r\n",
      "\u001b[34mdl4j-examples\u001b[m\u001b[m\r\n",
      "\u001b[34mdl4j-workspace\u001b[m\u001b[m\r\n",
      "\u001b[34meclipse\u001b[m\u001b[m\r\n",
      "\u001b[34meclipse-workspace\u001b[m\u001b[m\r\n",
      "gutenberg_dataset.txt\r\n",
      "homes.csv\r\n",
      "\u001b[34mjsx_project\u001b[m\u001b[m\r\n",
      "\u001b[34mnltk_data\u001b[m\u001b[m\r\n",
      "\u001b[34mproject\u001b[m\u001b[m\r\n",
      "\u001b[34mq\u001b[m\u001b[m\r\n",
      "\u001b[34mscikit_learn_data\u001b[m\u001b[m\r\n",
      "\u001b[34msublime_files\u001b[m\u001b[m\r\n",
      "\u001b[34mtarget\u001b[m\u001b[m\r\n",
      "\u001b[34mwekafiles\u001b[m\u001b[m\r\n"
     ]
    }
   ],
   "source": [
    "! ls"
   ]
  },
  {
   "cell_type": "code",
   "execution_count": null,
   "metadata": {
    "collapsed": true
   },
   "outputs": [],
   "source": []
  }
 ],
 "metadata": {
  "kernelspec": {
   "display_name": "Python 3",
   "language": "python",
   "name": "python3"
  },
  "language_info": {
   "codemirror_mode": {
    "name": "ipython",
    "version": 3
   },
   "file_extension": ".py",
   "mimetype": "text/x-python",
   "name": "python",
   "nbconvert_exporter": "python",
   "pygments_lexer": "ipython3",
   "version": "3.6.2"
  }
 },
 "nbformat": 4,
 "nbformat_minor": 2
}
